{
 "cells": [
  {
   "cell_type": "markdown",
   "id": "dd851981",
   "metadata": {},
   "source": [
    "# UNEMPLOYMENT ANALYSIS"
   ]
  },
  {
   "cell_type": "markdown",
   "id": "e1d752d5",
   "metadata": {},
   "source": [
    "### Load Libraries"
   ]
  },
  {
   "cell_type": "code",
   "execution_count": 1,
   "id": "97060f0e",
   "metadata": {},
   "outputs": [],
   "source": [
    "import pandas as pd\n",
    "import seaborn as sns\n",
    "import matplotlib as plt\n",
    "import numpy as np\n",
    "#from sklearn.preprocessing import train_test_split\n"
   ]
  },
  {
   "cell_type": "markdown",
   "id": "7590b3fa",
   "metadata": {},
   "source": [
    "### Loading data"
   ]
  },
  {
   "cell_type": "code",
   "execution_count": 2,
   "id": "9105a63b",
   "metadata": {},
   "outputs": [],
   "source": [
    "# Specifying the data path\n",
    "# Specify you own path when running it(where you save you save your file)\n",
    "Data_path1 = \"C:\\\\Users\\\\patiphiri\\\\Desktop\\\\Oasis datascience\\\\Task_2_Unemployment\\\\Unemployment\\\\Unemployment in India.csv\"\n",
    "Data_path2 = \"C:\\\\Users\\\\patiphiri\\\\Desktop\\\\Oasis datascience\\\\Task_2_Unemployment\\\\Unemployment\\\\Unemployment_Rate_upto_11_2020.csv\""
   ]
  },
  {
   "cell_type": "code",
   "execution_count": 3,
   "id": "2a2a4fdf",
   "metadata": {},
   "outputs": [],
   "source": [
    "# Reading the file\n",
    "df1 = pd.read_csv(Data_path1)\n",
    "df2 = pd.read_csv(Data_path2)\n"
   ]
  },
  {
   "cell_type": "code",
   "execution_count": 4,
   "id": "de17e4a7",
   "metadata": {},
   "outputs": [
    {
     "name": "stdout",
     "output_type": "stream",
     "text": [
      "(768, 7)\n"
     ]
    },
    {
     "data": {
      "text/plain": [
       "(267, 9)"
      ]
     },
     "execution_count": 4,
     "metadata": {},
     "output_type": "execute_result"
    }
   ],
   "source": [
    "print(df1.shape)\n",
    "df2.shape"
   ]
  },
  {
   "cell_type": "code",
   "execution_count": 5,
   "id": "07bd5bb7",
   "metadata": {},
   "outputs": [
    {
     "data": {
      "text/plain": [
       "Index(['Region', ' Date', ' Frequency', ' Estimated Unemployment Rate (%)',\n",
       "       ' Estimated Employed', ' Estimated Labour Participation Rate (%)',\n",
       "       'Area'],\n",
       "      dtype='object')"
      ]
     },
     "execution_count": 5,
     "metadata": {},
     "output_type": "execute_result"
    }
   ],
   "source": [
    "df1.columns\n"
   ]
  },
  {
   "cell_type": "code",
   "execution_count": 6,
   "id": "2354730a",
   "metadata": {},
   "outputs": [
    {
     "data": {
      "text/plain": [
       "Index(['Region', ' Date', ' Frequency', ' Estimated Unemployment Rate (%)',\n",
       "       ' Estimated Employed', ' Estimated Labour Participation Rate (%)',\n",
       "       'Region.1', 'longitude', 'latitude'],\n",
       "      dtype='object')"
      ]
     },
     "execution_count": 6,
     "metadata": {},
     "output_type": "execute_result"
    }
   ],
   "source": [
    "df2.columns"
   ]
  },
  {
   "cell_type": "code",
   "execution_count": 7,
   "id": "9beb2eec",
   "metadata": {},
   "outputs": [],
   "source": [
    "# Columns have leading spaces before the names\n",
    "#Lets remove them so they dont cause problems when accessing the column names\n",
    "df1.columns = df1.columns.str.strip()\n",
    "df2.columns = df2.columns.str.strip()\n",
    "\n"
   ]
  },
  {
   "cell_type": "code",
   "execution_count": 8,
   "id": "770e33ec",
   "metadata": {},
   "outputs": [
    {
     "data": {
      "text/html": [
       "<div>\n",
       "<style scoped>\n",
       "    .dataframe tbody tr th:only-of-type {\n",
       "        vertical-align: middle;\n",
       "    }\n",
       "\n",
       "    .dataframe tbody tr th {\n",
       "        vertical-align: top;\n",
       "    }\n",
       "\n",
       "    .dataframe thead th {\n",
       "        text-align: right;\n",
       "    }\n",
       "</style>\n",
       "<table border=\"1\" class=\"dataframe\">\n",
       "  <thead>\n",
       "    <tr style=\"text-align: right;\">\n",
       "      <th></th>\n",
       "      <th>Region</th>\n",
       "      <th>Date</th>\n",
       "      <th>Frequency</th>\n",
       "      <th>Estimated Unemployment Rate (%)</th>\n",
       "      <th>Estimated Employed</th>\n",
       "      <th>Estimated Labour Participation Rate (%)</th>\n",
       "      <th>Area</th>\n",
       "    </tr>\n",
       "  </thead>\n",
       "  <tbody>\n",
       "    <tr>\n",
       "      <th>0</th>\n",
       "      <td>Andhra Pradesh</td>\n",
       "      <td>31-05-2019</td>\n",
       "      <td>Monthly</td>\n",
       "      <td>3.65</td>\n",
       "      <td>11999139.0</td>\n",
       "      <td>43.24</td>\n",
       "      <td>Rural</td>\n",
       "    </tr>\n",
       "    <tr>\n",
       "      <th>1</th>\n",
       "      <td>Andhra Pradesh</td>\n",
       "      <td>30-06-2019</td>\n",
       "      <td>Monthly</td>\n",
       "      <td>3.05</td>\n",
       "      <td>11755881.0</td>\n",
       "      <td>42.05</td>\n",
       "      <td>Rural</td>\n",
       "    </tr>\n",
       "    <tr>\n",
       "      <th>2</th>\n",
       "      <td>Andhra Pradesh</td>\n",
       "      <td>31-07-2019</td>\n",
       "      <td>Monthly</td>\n",
       "      <td>3.75</td>\n",
       "      <td>12086707.0</td>\n",
       "      <td>43.50</td>\n",
       "      <td>Rural</td>\n",
       "    </tr>\n",
       "    <tr>\n",
       "      <th>3</th>\n",
       "      <td>Andhra Pradesh</td>\n",
       "      <td>31-08-2019</td>\n",
       "      <td>Monthly</td>\n",
       "      <td>3.32</td>\n",
       "      <td>12285693.0</td>\n",
       "      <td>43.97</td>\n",
       "      <td>Rural</td>\n",
       "    </tr>\n",
       "    <tr>\n",
       "      <th>4</th>\n",
       "      <td>Andhra Pradesh</td>\n",
       "      <td>30-09-2019</td>\n",
       "      <td>Monthly</td>\n",
       "      <td>5.17</td>\n",
       "      <td>12256762.0</td>\n",
       "      <td>44.68</td>\n",
       "      <td>Rural</td>\n",
       "    </tr>\n",
       "  </tbody>\n",
       "</table>\n",
       "</div>"
      ],
      "text/plain": [
       "           Region         Date Frequency  Estimated Unemployment Rate (%)  \\\n",
       "0  Andhra Pradesh   31-05-2019   Monthly                             3.65   \n",
       "1  Andhra Pradesh   30-06-2019   Monthly                             3.05   \n",
       "2  Andhra Pradesh   31-07-2019   Monthly                             3.75   \n",
       "3  Andhra Pradesh   31-08-2019   Monthly                             3.32   \n",
       "4  Andhra Pradesh   30-09-2019   Monthly                             5.17   \n",
       "\n",
       "   Estimated Employed  Estimated Labour Participation Rate (%)   Area  \n",
       "0          11999139.0                                    43.24  Rural  \n",
       "1          11755881.0                                    42.05  Rural  \n",
       "2          12086707.0                                    43.50  Rural  \n",
       "3          12285693.0                                    43.97  Rural  \n",
       "4          12256762.0                                    44.68  Rural  "
      ]
     },
     "execution_count": 8,
     "metadata": {},
     "output_type": "execute_result"
    }
   ],
   "source": [
    "df1.head()"
   ]
  },
  {
   "cell_type": "code",
   "execution_count": 9,
   "id": "0846d800",
   "metadata": {},
   "outputs": [
    {
     "data": {
      "text/html": [
       "<div>\n",
       "<style scoped>\n",
       "    .dataframe tbody tr th:only-of-type {\n",
       "        vertical-align: middle;\n",
       "    }\n",
       "\n",
       "    .dataframe tbody tr th {\n",
       "        vertical-align: top;\n",
       "    }\n",
       "\n",
       "    .dataframe thead th {\n",
       "        text-align: right;\n",
       "    }\n",
       "</style>\n",
       "<table border=\"1\" class=\"dataframe\">\n",
       "  <thead>\n",
       "    <tr style=\"text-align: right;\">\n",
       "      <th></th>\n",
       "      <th>Region</th>\n",
       "      <th>Date</th>\n",
       "      <th>Frequency</th>\n",
       "      <th>Estimated Unemployment Rate (%)</th>\n",
       "      <th>Estimated Employed</th>\n",
       "      <th>Estimated Labour Participation Rate (%)</th>\n",
       "      <th>Region.1</th>\n",
       "      <th>longitude</th>\n",
       "      <th>latitude</th>\n",
       "    </tr>\n",
       "  </thead>\n",
       "  <tbody>\n",
       "    <tr>\n",
       "      <th>0</th>\n",
       "      <td>Andhra Pradesh</td>\n",
       "      <td>31-01-2020</td>\n",
       "      <td>M</td>\n",
       "      <td>5.48</td>\n",
       "      <td>16635535</td>\n",
       "      <td>41.02</td>\n",
       "      <td>South</td>\n",
       "      <td>15.9129</td>\n",
       "      <td>79.74</td>\n",
       "    </tr>\n",
       "    <tr>\n",
       "      <th>1</th>\n",
       "      <td>Andhra Pradesh</td>\n",
       "      <td>29-02-2020</td>\n",
       "      <td>M</td>\n",
       "      <td>5.83</td>\n",
       "      <td>16545652</td>\n",
       "      <td>40.90</td>\n",
       "      <td>South</td>\n",
       "      <td>15.9129</td>\n",
       "      <td>79.74</td>\n",
       "    </tr>\n",
       "    <tr>\n",
       "      <th>2</th>\n",
       "      <td>Andhra Pradesh</td>\n",
       "      <td>31-03-2020</td>\n",
       "      <td>M</td>\n",
       "      <td>5.79</td>\n",
       "      <td>15881197</td>\n",
       "      <td>39.18</td>\n",
       "      <td>South</td>\n",
       "      <td>15.9129</td>\n",
       "      <td>79.74</td>\n",
       "    </tr>\n",
       "    <tr>\n",
       "      <th>3</th>\n",
       "      <td>Andhra Pradesh</td>\n",
       "      <td>30-04-2020</td>\n",
       "      <td>M</td>\n",
       "      <td>20.51</td>\n",
       "      <td>11336911</td>\n",
       "      <td>33.10</td>\n",
       "      <td>South</td>\n",
       "      <td>15.9129</td>\n",
       "      <td>79.74</td>\n",
       "    </tr>\n",
       "    <tr>\n",
       "      <th>4</th>\n",
       "      <td>Andhra Pradesh</td>\n",
       "      <td>31-05-2020</td>\n",
       "      <td>M</td>\n",
       "      <td>17.43</td>\n",
       "      <td>12988845</td>\n",
       "      <td>36.46</td>\n",
       "      <td>South</td>\n",
       "      <td>15.9129</td>\n",
       "      <td>79.74</td>\n",
       "    </tr>\n",
       "  </tbody>\n",
       "</table>\n",
       "</div>"
      ],
      "text/plain": [
       "           Region         Date Frequency  Estimated Unemployment Rate (%)  \\\n",
       "0  Andhra Pradesh   31-01-2020         M                             5.48   \n",
       "1  Andhra Pradesh   29-02-2020         M                             5.83   \n",
       "2  Andhra Pradesh   31-03-2020         M                             5.79   \n",
       "3  Andhra Pradesh   30-04-2020         M                            20.51   \n",
       "4  Andhra Pradesh   31-05-2020         M                            17.43   \n",
       "\n",
       "   Estimated Employed  Estimated Labour Participation Rate (%) Region.1  \\\n",
       "0            16635535                                    41.02    South   \n",
       "1            16545652                                    40.90    South   \n",
       "2            15881197                                    39.18    South   \n",
       "3            11336911                                    33.10    South   \n",
       "4            12988845                                    36.46    South   \n",
       "\n",
       "   longitude  latitude  \n",
       "0    15.9129     79.74  \n",
       "1    15.9129     79.74  \n",
       "2    15.9129     79.74  \n",
       "3    15.9129     79.74  \n",
       "4    15.9129     79.74  "
      ]
     },
     "execution_count": 9,
     "metadata": {},
     "output_type": "execute_result"
    }
   ],
   "source": [
    "df2.head()"
   ]
  },
  {
   "cell_type": "code",
   "execution_count": 10,
   "id": "dd238089",
   "metadata": {},
   "outputs": [
    {
     "name": "stdout",
     "output_type": "stream",
     "text": [
      "[' M']\n"
     ]
    }
   ],
   "source": [
    "# Check unique values in the 'Frequency' column\n",
    "print(df2['Frequency'].unique())\n"
   ]
  },
  {
   "cell_type": "code",
   "execution_count": 11,
   "id": "3bfb16ea",
   "metadata": {},
   "outputs": [
    {
     "data": {
      "text/html": [
       "<div>\n",
       "<style scoped>\n",
       "    .dataframe tbody tr th:only-of-type {\n",
       "        vertical-align: middle;\n",
       "    }\n",
       "\n",
       "    .dataframe tbody tr th {\n",
       "        vertical-align: top;\n",
       "    }\n",
       "\n",
       "    .dataframe thead th {\n",
       "        text-align: right;\n",
       "    }\n",
       "</style>\n",
       "<table border=\"1\" class=\"dataframe\">\n",
       "  <thead>\n",
       "    <tr style=\"text-align: right;\">\n",
       "      <th></th>\n",
       "      <th>Region</th>\n",
       "      <th>Date</th>\n",
       "      <th>Frequency</th>\n",
       "      <th>Estimated Unemployment Rate (%)</th>\n",
       "      <th>Estimated Employed</th>\n",
       "      <th>Estimated Labour Participation Rate (%)</th>\n",
       "      <th>Region.1</th>\n",
       "      <th>longitude</th>\n",
       "      <th>latitude</th>\n",
       "    </tr>\n",
       "  </thead>\n",
       "  <tbody>\n",
       "    <tr>\n",
       "      <th>0</th>\n",
       "      <td>Andhra Pradesh</td>\n",
       "      <td>31-01-2020</td>\n",
       "      <td>Monthly</td>\n",
       "      <td>5.48</td>\n",
       "      <td>16635535</td>\n",
       "      <td>41.02</td>\n",
       "      <td>South</td>\n",
       "      <td>15.9129</td>\n",
       "      <td>79.74</td>\n",
       "    </tr>\n",
       "    <tr>\n",
       "      <th>1</th>\n",
       "      <td>Andhra Pradesh</td>\n",
       "      <td>29-02-2020</td>\n",
       "      <td>Monthly</td>\n",
       "      <td>5.83</td>\n",
       "      <td>16545652</td>\n",
       "      <td>40.90</td>\n",
       "      <td>South</td>\n",
       "      <td>15.9129</td>\n",
       "      <td>79.74</td>\n",
       "    </tr>\n",
       "    <tr>\n",
       "      <th>2</th>\n",
       "      <td>Andhra Pradesh</td>\n",
       "      <td>31-03-2020</td>\n",
       "      <td>Monthly</td>\n",
       "      <td>5.79</td>\n",
       "      <td>15881197</td>\n",
       "      <td>39.18</td>\n",
       "      <td>South</td>\n",
       "      <td>15.9129</td>\n",
       "      <td>79.74</td>\n",
       "    </tr>\n",
       "    <tr>\n",
       "      <th>3</th>\n",
       "      <td>Andhra Pradesh</td>\n",
       "      <td>30-04-2020</td>\n",
       "      <td>Monthly</td>\n",
       "      <td>20.51</td>\n",
       "      <td>11336911</td>\n",
       "      <td>33.10</td>\n",
       "      <td>South</td>\n",
       "      <td>15.9129</td>\n",
       "      <td>79.74</td>\n",
       "    </tr>\n",
       "    <tr>\n",
       "      <th>4</th>\n",
       "      <td>Andhra Pradesh</td>\n",
       "      <td>31-05-2020</td>\n",
       "      <td>Monthly</td>\n",
       "      <td>17.43</td>\n",
       "      <td>12988845</td>\n",
       "      <td>36.46</td>\n",
       "      <td>South</td>\n",
       "      <td>15.9129</td>\n",
       "      <td>79.74</td>\n",
       "    </tr>\n",
       "  </tbody>\n",
       "</table>\n",
       "</div>"
      ],
      "text/plain": [
       "           Region         Date Frequency  Estimated Unemployment Rate (%)  \\\n",
       "0  Andhra Pradesh   31-01-2020   Monthly                             5.48   \n",
       "1  Andhra Pradesh   29-02-2020   Monthly                             5.83   \n",
       "2  Andhra Pradesh   31-03-2020   Monthly                             5.79   \n",
       "3  Andhra Pradesh   30-04-2020   Monthly                            20.51   \n",
       "4  Andhra Pradesh   31-05-2020   Monthly                            17.43   \n",
       "\n",
       "   Estimated Employed  Estimated Labour Participation Rate (%) Region.1  \\\n",
       "0            16635535                                    41.02    South   \n",
       "1            16545652                                    40.90    South   \n",
       "2            15881197                                    39.18    South   \n",
       "3            11336911                                    33.10    South   \n",
       "4            12988845                                    36.46    South   \n",
       "\n",
       "   longitude  latitude  \n",
       "0    15.9129     79.74  \n",
       "1    15.9129     79.74  \n",
       "2    15.9129     79.74  \n",
       "3    15.9129     79.74  \n",
       "4    15.9129     79.74  "
      ]
     },
     "execution_count": 11,
     "metadata": {},
     "output_type": "execute_result"
    }
   ],
   "source": [
    "# We can also see that the Frequency column in df2 is represented by \"M\" \n",
    "# So we are going to change the values to \"Monthly\"\n",
    "\n",
    "df2['Frequency'] = df2['Frequency'].replace(' M', 'Monthly')\n",
    "df2.head()\n"
   ]
  },
  {
   "cell_type": "code",
   "execution_count": 12,
   "id": "219b5d25",
   "metadata": {},
   "outputs": [],
   "source": [
    "# We can see that the two dataframes have some columns which are common are soem which are not\n",
    "# We wont be able to use those ones so we are going to drop them \n",
    "# Starting with the first dataframe we are going to drop \"Area\" column\n",
    "\n",
    "Unwanted_cols = \"Area\"\n",
    "\n",
    "df1 = df1.drop(Unwanted_cols,axis =1)"
   ]
  },
  {
   "cell_type": "code",
   "execution_count": 13,
   "id": "c81bb44b",
   "metadata": {},
   "outputs": [],
   "source": [
    "# For dataframe 2 we are going to drop the \"Region.1\", \"longitude\" and \"latitude\" columns\n",
    "\n",
    "# Create a list of columns we want to drop\n",
    "Unwanted_cols = [\"Region.1\",\"longitude\",\"latitude\"]\n",
    "\n",
    "#Use drop function to remove the columns\n",
    "df2 = df2.drop(Unwanted_cols,axis =1)"
   ]
  },
  {
   "cell_type": "code",
   "execution_count": 14,
   "id": "6a118809",
   "metadata": {},
   "outputs": [
    {
     "data": {
      "text/plain": [
       "Index(['Region', 'Date', 'Frequency', 'Estimated Unemployment Rate (%)',\n",
       "       'Estimated Employed', 'Estimated Labour Participation Rate (%)'],\n",
       "      dtype='object')"
      ]
     },
     "execution_count": 14,
     "metadata": {},
     "output_type": "execute_result"
    }
   ],
   "source": [
    "# We acn also see frequency column in df2 is represented by a letter only\n",
    "# Lets try to make it the same as df1\n",
    "df2.columns\n"
   ]
  },
  {
   "cell_type": "code",
   "execution_count": 17,
   "id": "e9a8b225",
   "metadata": {},
   "outputs": [],
   "source": [
    "# Lets also change the Date column to data data type and then arrange the entries in order if they are not in order\n",
    "\n",
    "# Converting 'Date' column to datetime\n",
    "df1['Date'] = pd.to_datetime(df1['Date'], dayfirst=True)\n",
    "df2['Date'] = pd.to_datetime(df2['Date'], dayfirst=True)\n",
    "\n",
    "# Sort DataFrame by date\n",
    "df1 = df1.sort_values(by='Date')\n",
    "df2 = df2.sort_values(by='Date')\n",
    "\n",
    "# Reset index if needed\n",
    "df1.reset_index(drop=True, inplace=True)\n",
    "df2.reset_index(drop=True, inplace=True)"
   ]
  },
  {
   "cell_type": "markdown",
   "id": "9b40940f",
   "metadata": {},
   "source": [
    "# Checking for missing values or null values"
   ]
  },
  {
   "cell_type": "code",
   "execution_count": 26,
   "id": "09762b3b",
   "metadata": {},
   "outputs": [
    {
     "name": "stdout",
     "output_type": "stream",
     "text": [
      "<class 'pandas.core.frame.DataFrame'>\n",
      "RangeIndex: 768 entries, 0 to 767\n",
      "Data columns (total 6 columns):\n",
      " #   Column                                   Non-Null Count  Dtype         \n",
      "---  ------                                   --------------  -----         \n",
      " 0   Region                                   740 non-null    object        \n",
      " 1   Date                                     740 non-null    datetime64[ns]\n",
      " 2   Frequency                                740 non-null    object        \n",
      " 3   Estimated Unemployment Rate (%)          740 non-null    float64       \n",
      " 4   Estimated Employed                       740 non-null    float64       \n",
      " 5   Estimated Labour Participation Rate (%)  740 non-null    float64       \n",
      "dtypes: datetime64[ns](1), float64(3), object(2)\n",
      "memory usage: 30.1+ KB\n"
     ]
    }
   ],
   "source": [
    "df1.info()"
   ]
  },
  {
   "cell_type": "code",
   "execution_count": 27,
   "id": "de9521a2",
   "metadata": {},
   "outputs": [
    {
     "name": "stdout",
     "output_type": "stream",
     "text": [
      "<class 'pandas.core.frame.DataFrame'>\n",
      "RangeIndex: 267 entries, 0 to 266\n",
      "Data columns (total 6 columns):\n",
      " #   Column                                   Non-Null Count  Dtype         \n",
      "---  ------                                   --------------  -----         \n",
      " 0   Region                                   267 non-null    object        \n",
      " 1   Date                                     267 non-null    datetime64[ns]\n",
      " 2   Frequency                                267 non-null    object        \n",
      " 3   Estimated Unemployment Rate (%)          267 non-null    float64       \n",
      " 4   Estimated Employed                       267 non-null    int64         \n",
      " 5   Estimated Labour Participation Rate (%)  267 non-null    float64       \n",
      "dtypes: datetime64[ns](1), float64(2), int64(1), object(2)\n",
      "memory usage: 10.5+ KB\n"
     ]
    }
   ],
   "source": [
    "df2.info()"
   ]
  },
  {
   "cell_type": "code",
   "execution_count": 28,
   "id": "5b336fb7",
   "metadata": {},
   "outputs": [
    {
     "data": {
      "text/plain": [
       "Region                                     28\n",
       "Date                                       28\n",
       "Frequency                                  28\n",
       "Estimated Unemployment Rate (%)            28\n",
       "Estimated Employed                         28\n",
       "Estimated Labour Participation Rate (%)    28\n",
       "dtype: int64"
      ]
     },
     "execution_count": 28,
     "metadata": {},
     "output_type": "execute_result"
    }
   ],
   "source": [
    "# Checking for total null values in each column in the dataframes\n",
    "\n",
    "df1.isnull().sum()"
   ]
  },
  {
   "cell_type": "code",
   "execution_count": 29,
   "id": "2e83ba50",
   "metadata": {},
   "outputs": [
    {
     "data": {
      "text/plain": [
       "Region                                     0\n",
       "Date                                       0\n",
       "Frequency                                  0\n",
       "Estimated Unemployment Rate (%)            0\n",
       "Estimated Employed                         0\n",
       "Estimated Labour Participation Rate (%)    0\n",
       "dtype: int64"
      ]
     },
     "execution_count": 29,
     "metadata": {},
     "output_type": "execute_result"
    }
   ],
   "source": [
    "# Now for df2\n",
    "df2.isnull().sum()"
   ]
  },
  {
   "cell_type": "raw",
   "id": "fd724c1d",
   "metadata": {},
   "source": [
    "The checks show that dataframe 1 is the only one which has some null values\n",
    "Solution is to either drop the columns or impute \n",
    "We are going to take the drop option \n",
    "If some modeling was going to be done imputation is the best option\n",
    "so that we dont lose a lot of data that needed to train the models\n"
   ]
  },
  {
   "cell_type": "code",
   "execution_count": 30,
   "id": "a3244621",
   "metadata": {},
   "outputs": [
    {
     "data": {
      "text/html": [
       "<div>\n",
       "<style scoped>\n",
       "    .dataframe tbody tr th:only-of-type {\n",
       "        vertical-align: middle;\n",
       "    }\n",
       "\n",
       "    .dataframe tbody tr th {\n",
       "        vertical-align: top;\n",
       "    }\n",
       "\n",
       "    .dataframe thead th {\n",
       "        text-align: right;\n",
       "    }\n",
       "</style>\n",
       "<table border=\"1\" class=\"dataframe\">\n",
       "  <thead>\n",
       "    <tr style=\"text-align: right;\">\n",
       "      <th></th>\n",
       "      <th>Region</th>\n",
       "      <th>Date</th>\n",
       "      <th>Frequency</th>\n",
       "      <th>Estimated Unemployment Rate (%)</th>\n",
       "      <th>Estimated Employed</th>\n",
       "      <th>Estimated Labour Participation Rate (%)</th>\n",
       "    </tr>\n",
       "  </thead>\n",
       "  <tbody>\n",
       "    <tr>\n",
       "      <th>740</th>\n",
       "      <td>NaN</td>\n",
       "      <td>NaT</td>\n",
       "      <td>NaN</td>\n",
       "      <td>NaN</td>\n",
       "      <td>NaN</td>\n",
       "      <td>NaN</td>\n",
       "    </tr>\n",
       "    <tr>\n",
       "      <th>741</th>\n",
       "      <td>NaN</td>\n",
       "      <td>NaT</td>\n",
       "      <td>NaN</td>\n",
       "      <td>NaN</td>\n",
       "      <td>NaN</td>\n",
       "      <td>NaN</td>\n",
       "    </tr>\n",
       "    <tr>\n",
       "      <th>742</th>\n",
       "      <td>NaN</td>\n",
       "      <td>NaT</td>\n",
       "      <td>NaN</td>\n",
       "      <td>NaN</td>\n",
       "      <td>NaN</td>\n",
       "      <td>NaN</td>\n",
       "    </tr>\n",
       "    <tr>\n",
       "      <th>743</th>\n",
       "      <td>NaN</td>\n",
       "      <td>NaT</td>\n",
       "      <td>NaN</td>\n",
       "      <td>NaN</td>\n",
       "      <td>NaN</td>\n",
       "      <td>NaN</td>\n",
       "    </tr>\n",
       "    <tr>\n",
       "      <th>744</th>\n",
       "      <td>NaN</td>\n",
       "      <td>NaT</td>\n",
       "      <td>NaN</td>\n",
       "      <td>NaN</td>\n",
       "      <td>NaN</td>\n",
       "      <td>NaN</td>\n",
       "    </tr>\n",
       "    <tr>\n",
       "      <th>745</th>\n",
       "      <td>NaN</td>\n",
       "      <td>NaT</td>\n",
       "      <td>NaN</td>\n",
       "      <td>NaN</td>\n",
       "      <td>NaN</td>\n",
       "      <td>NaN</td>\n",
       "    </tr>\n",
       "    <tr>\n",
       "      <th>746</th>\n",
       "      <td>NaN</td>\n",
       "      <td>NaT</td>\n",
       "      <td>NaN</td>\n",
       "      <td>NaN</td>\n",
       "      <td>NaN</td>\n",
       "      <td>NaN</td>\n",
       "    </tr>\n",
       "    <tr>\n",
       "      <th>747</th>\n",
       "      <td>NaN</td>\n",
       "      <td>NaT</td>\n",
       "      <td>NaN</td>\n",
       "      <td>NaN</td>\n",
       "      <td>NaN</td>\n",
       "      <td>NaN</td>\n",
       "    </tr>\n",
       "    <tr>\n",
       "      <th>748</th>\n",
       "      <td>NaN</td>\n",
       "      <td>NaT</td>\n",
       "      <td>NaN</td>\n",
       "      <td>NaN</td>\n",
       "      <td>NaN</td>\n",
       "      <td>NaN</td>\n",
       "    </tr>\n",
       "    <tr>\n",
       "      <th>749</th>\n",
       "      <td>NaN</td>\n",
       "      <td>NaT</td>\n",
       "      <td>NaN</td>\n",
       "      <td>NaN</td>\n",
       "      <td>NaN</td>\n",
       "      <td>NaN</td>\n",
       "    </tr>\n",
       "    <tr>\n",
       "      <th>750</th>\n",
       "      <td>NaN</td>\n",
       "      <td>NaT</td>\n",
       "      <td>NaN</td>\n",
       "      <td>NaN</td>\n",
       "      <td>NaN</td>\n",
       "      <td>NaN</td>\n",
       "    </tr>\n",
       "    <tr>\n",
       "      <th>751</th>\n",
       "      <td>NaN</td>\n",
       "      <td>NaT</td>\n",
       "      <td>NaN</td>\n",
       "      <td>NaN</td>\n",
       "      <td>NaN</td>\n",
       "      <td>NaN</td>\n",
       "    </tr>\n",
       "    <tr>\n",
       "      <th>752</th>\n",
       "      <td>NaN</td>\n",
       "      <td>NaT</td>\n",
       "      <td>NaN</td>\n",
       "      <td>NaN</td>\n",
       "      <td>NaN</td>\n",
       "      <td>NaN</td>\n",
       "    </tr>\n",
       "    <tr>\n",
       "      <th>753</th>\n",
       "      <td>NaN</td>\n",
       "      <td>NaT</td>\n",
       "      <td>NaN</td>\n",
       "      <td>NaN</td>\n",
       "      <td>NaN</td>\n",
       "      <td>NaN</td>\n",
       "    </tr>\n",
       "    <tr>\n",
       "      <th>754</th>\n",
       "      <td>NaN</td>\n",
       "      <td>NaT</td>\n",
       "      <td>NaN</td>\n",
       "      <td>NaN</td>\n",
       "      <td>NaN</td>\n",
       "      <td>NaN</td>\n",
       "    </tr>\n",
       "    <tr>\n",
       "      <th>755</th>\n",
       "      <td>NaN</td>\n",
       "      <td>NaT</td>\n",
       "      <td>NaN</td>\n",
       "      <td>NaN</td>\n",
       "      <td>NaN</td>\n",
       "      <td>NaN</td>\n",
       "    </tr>\n",
       "    <tr>\n",
       "      <th>756</th>\n",
       "      <td>NaN</td>\n",
       "      <td>NaT</td>\n",
       "      <td>NaN</td>\n",
       "      <td>NaN</td>\n",
       "      <td>NaN</td>\n",
       "      <td>NaN</td>\n",
       "    </tr>\n",
       "    <tr>\n",
       "      <th>757</th>\n",
       "      <td>NaN</td>\n",
       "      <td>NaT</td>\n",
       "      <td>NaN</td>\n",
       "      <td>NaN</td>\n",
       "      <td>NaN</td>\n",
       "      <td>NaN</td>\n",
       "    </tr>\n",
       "    <tr>\n",
       "      <th>758</th>\n",
       "      <td>NaN</td>\n",
       "      <td>NaT</td>\n",
       "      <td>NaN</td>\n",
       "      <td>NaN</td>\n",
       "      <td>NaN</td>\n",
       "      <td>NaN</td>\n",
       "    </tr>\n",
       "    <tr>\n",
       "      <th>759</th>\n",
       "      <td>NaN</td>\n",
       "      <td>NaT</td>\n",
       "      <td>NaN</td>\n",
       "      <td>NaN</td>\n",
       "      <td>NaN</td>\n",
       "      <td>NaN</td>\n",
       "    </tr>\n",
       "    <tr>\n",
       "      <th>760</th>\n",
       "      <td>NaN</td>\n",
       "      <td>NaT</td>\n",
       "      <td>NaN</td>\n",
       "      <td>NaN</td>\n",
       "      <td>NaN</td>\n",
       "      <td>NaN</td>\n",
       "    </tr>\n",
       "    <tr>\n",
       "      <th>761</th>\n",
       "      <td>NaN</td>\n",
       "      <td>NaT</td>\n",
       "      <td>NaN</td>\n",
       "      <td>NaN</td>\n",
       "      <td>NaN</td>\n",
       "      <td>NaN</td>\n",
       "    </tr>\n",
       "    <tr>\n",
       "      <th>762</th>\n",
       "      <td>NaN</td>\n",
       "      <td>NaT</td>\n",
       "      <td>NaN</td>\n",
       "      <td>NaN</td>\n",
       "      <td>NaN</td>\n",
       "      <td>NaN</td>\n",
       "    </tr>\n",
       "    <tr>\n",
       "      <th>763</th>\n",
       "      <td>NaN</td>\n",
       "      <td>NaT</td>\n",
       "      <td>NaN</td>\n",
       "      <td>NaN</td>\n",
       "      <td>NaN</td>\n",
       "      <td>NaN</td>\n",
       "    </tr>\n",
       "    <tr>\n",
       "      <th>764</th>\n",
       "      <td>NaN</td>\n",
       "      <td>NaT</td>\n",
       "      <td>NaN</td>\n",
       "      <td>NaN</td>\n",
       "      <td>NaN</td>\n",
       "      <td>NaN</td>\n",
       "    </tr>\n",
       "    <tr>\n",
       "      <th>765</th>\n",
       "      <td>NaN</td>\n",
       "      <td>NaT</td>\n",
       "      <td>NaN</td>\n",
       "      <td>NaN</td>\n",
       "      <td>NaN</td>\n",
       "      <td>NaN</td>\n",
       "    </tr>\n",
       "    <tr>\n",
       "      <th>766</th>\n",
       "      <td>NaN</td>\n",
       "      <td>NaT</td>\n",
       "      <td>NaN</td>\n",
       "      <td>NaN</td>\n",
       "      <td>NaN</td>\n",
       "      <td>NaN</td>\n",
       "    </tr>\n",
       "    <tr>\n",
       "      <th>767</th>\n",
       "      <td>NaN</td>\n",
       "      <td>NaT</td>\n",
       "      <td>NaN</td>\n",
       "      <td>NaN</td>\n",
       "      <td>NaN</td>\n",
       "      <td>NaN</td>\n",
       "    </tr>\n",
       "  </tbody>\n",
       "</table>\n",
       "</div>"
      ],
      "text/plain": [
       "    Region Date Frequency  Estimated Unemployment Rate (%)  \\\n",
       "740    NaN  NaT       NaN                              NaN   \n",
       "741    NaN  NaT       NaN                              NaN   \n",
       "742    NaN  NaT       NaN                              NaN   \n",
       "743    NaN  NaT       NaN                              NaN   \n",
       "744    NaN  NaT       NaN                              NaN   \n",
       "745    NaN  NaT       NaN                              NaN   \n",
       "746    NaN  NaT       NaN                              NaN   \n",
       "747    NaN  NaT       NaN                              NaN   \n",
       "748    NaN  NaT       NaN                              NaN   \n",
       "749    NaN  NaT       NaN                              NaN   \n",
       "750    NaN  NaT       NaN                              NaN   \n",
       "751    NaN  NaT       NaN                              NaN   \n",
       "752    NaN  NaT       NaN                              NaN   \n",
       "753    NaN  NaT       NaN                              NaN   \n",
       "754    NaN  NaT       NaN                              NaN   \n",
       "755    NaN  NaT       NaN                              NaN   \n",
       "756    NaN  NaT       NaN                              NaN   \n",
       "757    NaN  NaT       NaN                              NaN   \n",
       "758    NaN  NaT       NaN                              NaN   \n",
       "759    NaN  NaT       NaN                              NaN   \n",
       "760    NaN  NaT       NaN                              NaN   \n",
       "761    NaN  NaT       NaN                              NaN   \n",
       "762    NaN  NaT       NaN                              NaN   \n",
       "763    NaN  NaT       NaN                              NaN   \n",
       "764    NaN  NaT       NaN                              NaN   \n",
       "765    NaN  NaT       NaN                              NaN   \n",
       "766    NaN  NaT       NaN                              NaN   \n",
       "767    NaN  NaT       NaN                              NaN   \n",
       "\n",
       "     Estimated Employed  Estimated Labour Participation Rate (%)  \n",
       "740                 NaN                                      NaN  \n",
       "741                 NaN                                      NaN  \n",
       "742                 NaN                                      NaN  \n",
       "743                 NaN                                      NaN  \n",
       "744                 NaN                                      NaN  \n",
       "745                 NaN                                      NaN  \n",
       "746                 NaN                                      NaN  \n",
       "747                 NaN                                      NaN  \n",
       "748                 NaN                                      NaN  \n",
       "749                 NaN                                      NaN  \n",
       "750                 NaN                                      NaN  \n",
       "751                 NaN                                      NaN  \n",
       "752                 NaN                                      NaN  \n",
       "753                 NaN                                      NaN  \n",
       "754                 NaN                                      NaN  \n",
       "755                 NaN                                      NaN  \n",
       "756                 NaN                                      NaN  \n",
       "757                 NaN                                      NaN  \n",
       "758                 NaN                                      NaN  \n",
       "759                 NaN                                      NaN  \n",
       "760                 NaN                                      NaN  \n",
       "761                 NaN                                      NaN  \n",
       "762                 NaN                                      NaN  \n",
       "763                 NaN                                      NaN  \n",
       "764                 NaN                                      NaN  \n",
       "765                 NaN                                      NaN  \n",
       "766                 NaN                                      NaN  \n",
       "767                 NaN                                      NaN  "
      ]
     },
     "execution_count": 30,
     "metadata": {},
     "output_type": "execute_result"
    }
   ],
   "source": [
    "df1.tail(28)"
   ]
  },
  {
   "cell_type": "markdown",
   "id": "cb967792",
   "metadata": {},
   "source": [
    "### Drop rows with missing data or null values"
   ]
  },
  {
   "cell_type": "code",
   "execution_count": 31,
   "id": "a66c9936",
   "metadata": {},
   "outputs": [
    {
     "name": "stdout",
     "output_type": "stream",
     "text": [
      "Rows with missing values found:\n",
      "    Region Date Frequency  Estimated Unemployment Rate (%)  \\\n",
      "740    NaN  NaT       NaN                              NaN   \n",
      "741    NaN  NaT       NaN                              NaN   \n",
      "742    NaN  NaT       NaN                              NaN   \n",
      "743    NaN  NaT       NaN                              NaN   \n",
      "744    NaN  NaT       NaN                              NaN   \n",
      "745    NaN  NaT       NaN                              NaN   \n",
      "746    NaN  NaT       NaN                              NaN   \n",
      "747    NaN  NaT       NaN                              NaN   \n",
      "748    NaN  NaT       NaN                              NaN   \n",
      "749    NaN  NaT       NaN                              NaN   \n",
      "750    NaN  NaT       NaN                              NaN   \n",
      "751    NaN  NaT       NaN                              NaN   \n",
      "752    NaN  NaT       NaN                              NaN   \n",
      "753    NaN  NaT       NaN                              NaN   \n",
      "754    NaN  NaT       NaN                              NaN   \n",
      "755    NaN  NaT       NaN                              NaN   \n",
      "756    NaN  NaT       NaN                              NaN   \n",
      "757    NaN  NaT       NaN                              NaN   \n",
      "758    NaN  NaT       NaN                              NaN   \n",
      "759    NaN  NaT       NaN                              NaN   \n",
      "760    NaN  NaT       NaN                              NaN   \n",
      "761    NaN  NaT       NaN                              NaN   \n",
      "762    NaN  NaT       NaN                              NaN   \n",
      "763    NaN  NaT       NaN                              NaN   \n",
      "764    NaN  NaT       NaN                              NaN   \n",
      "765    NaN  NaT       NaN                              NaN   \n",
      "766    NaN  NaT       NaN                              NaN   \n",
      "767    NaN  NaT       NaN                              NaN   \n",
      "\n",
      "     Estimated Employed  Estimated Labour Participation Rate (%)  \n",
      "740                 NaN                                      NaN  \n",
      "741                 NaN                                      NaN  \n",
      "742                 NaN                                      NaN  \n",
      "743                 NaN                                      NaN  \n",
      "744                 NaN                                      NaN  \n",
      "745                 NaN                                      NaN  \n",
      "746                 NaN                                      NaN  \n",
      "747                 NaN                                      NaN  \n",
      "748                 NaN                                      NaN  \n",
      "749                 NaN                                      NaN  \n",
      "750                 NaN                                      NaN  \n",
      "751                 NaN                                      NaN  \n",
      "752                 NaN                                      NaN  \n",
      "753                 NaN                                      NaN  \n",
      "754                 NaN                                      NaN  \n",
      "755                 NaN                                      NaN  \n",
      "756                 NaN                                      NaN  \n",
      "757                 NaN                                      NaN  \n",
      "758                 NaN                                      NaN  \n",
      "759                 NaN                                      NaN  \n",
      "760                 NaN                                      NaN  \n",
      "761                 NaN                                      NaN  \n",
      "762                 NaN                                      NaN  \n",
      "763                 NaN                                      NaN  \n",
      "764                 NaN                                      NaN  \n",
      "765                 NaN                                      NaN  \n",
      "766                 NaN                                      NaN  \n",
      "767                 NaN                                      NaN  \n"
     ]
    }
   ],
   "source": [
    "# Lets remove the rows with missing or null values\n",
    "\n",
    "\n",
    "# Find missing values in rows\n",
    "rows_with_missing = df1[df1.isnull().any(axis=1)]\n",
    "\n",
    "if not rows_with_missing.empty:\n",
    "    print(\"Rows with missing values found:\")\n",
    "    print(rows_with_missing)\n",
    "else:\n",
    "    print(\"No rows with missing values.\")"
   ]
  },
  {
   "cell_type": "code",
   "execution_count": 32,
   "id": "fe4860cb",
   "metadata": {},
   "outputs": [],
   "source": [
    "# Drop rows in the dataframe 1\n",
    "# if missing column checker returned columns with missing values then we drop the columns\n",
    "\n",
    "df1.drop(rows_with_missing.index, inplace = True)"
   ]
  },
  {
   "cell_type": "code",
   "execution_count": 33,
   "id": "81b41e30",
   "metadata": {},
   "outputs": [
    {
     "data": {
      "text/plain": [
       "(740, 6)"
      ]
     },
     "execution_count": 33,
     "metadata": {},
     "output_type": "execute_result"
    }
   ],
   "source": [
    "df1.shape"
   ]
  },
  {
   "cell_type": "code",
   "execution_count": 34,
   "id": "4b1b31ba",
   "metadata": {},
   "outputs": [
    {
     "data": {
      "text/plain": [
       "Region                                     0\n",
       "Date                                       0\n",
       "Frequency                                  0\n",
       "Estimated Unemployment Rate (%)            0\n",
       "Estimated Employed                         0\n",
       "Estimated Labour Participation Rate (%)    0\n",
       "dtype: int64"
      ]
     },
     "execution_count": 34,
     "metadata": {},
     "output_type": "execute_result"
    }
   ],
   "source": [
    "df1.isnull().sum()"
   ]
  },
  {
   "cell_type": "raw",
   "id": "8a894280",
   "metadata": {},
   "source": [
    "Now that we have cleaned dataframe 1(df1) lets merge it with dataframe 2(df2)"
   ]
  },
  {
   "cell_type": "code",
   "execution_count": 35,
   "id": "0b584c59",
   "metadata": {},
   "outputs": [],
   "source": [
    "# Combining the df1 and df2\n",
    "merged_df  = pd.concat([df1,df2])"
   ]
  },
  {
   "cell_type": "code",
   "execution_count": 36,
   "id": "89a1ac03",
   "metadata": {},
   "outputs": [
    {
     "data": {
      "text/plain": [
       "(1007, 6)"
      ]
     },
     "execution_count": 36,
     "metadata": {},
     "output_type": "execute_result"
    }
   ],
   "source": [
    "# Lets check if they were merged correctly by checking the shape\n",
    "merged_df.shape"
   ]
  },
  {
   "cell_type": "raw",
   "id": "480732ab",
   "metadata": {},
   "source": [
    "# Now that we have cleaned our dataframes and combined them into merged_df we can now save them\n",
    "to a new csv file and excel file( To use Bi tools like Tableu and Power Bi to make interactive visulaizations)"
   ]
  },
  {
   "cell_type": "code",
   "execution_count": 37,
   "id": "97c64186",
   "metadata": {},
   "outputs": [],
   "source": [
    "merged_df.to_csv(\"C:\\\\Users\\\\patiphiri\\\\Desktop\\\\Oasis datascience\\\\Task_2_Unemployment\\\\Unemployment\\\\Merged_Unemployment.csv\",index = False)\n",
    "merged_df.to_excel(\"C:\\\\Users\\\\patiphiri\\\\Desktop\\\\Oasis datascience\\\\Task_2_Unemployment\\\\Unemployment\\\\Merged_Unemployment.xlsx\",index = False)"
   ]
  },
  {
   "cell_type": "markdown",
   "id": "f45d54d1",
   "metadata": {},
   "source": [
    "## Lets do some visulaizations using python"
   ]
  },
  {
   "cell_type": "code",
   "execution_count": 38,
   "id": "e4d68b62",
   "metadata": {},
   "outputs": [],
   "source": [
    "# You can load the new using the new merged csv\n",
    "# But will continue using merged_df since its the same\n",
    "# Going to use matplotlib and seaborn libraries"
   ]
  },
  {
   "cell_type": "raw",
   "id": "4296a447",
   "metadata": {},
   "source": [
    "Questions will try to answer:\n",
    "\n",
    "1.)  How do the unemployment rates compare over the Regions in India\n",
    "2.)  Regional Disparities in Unemployment Rates\n",
    "3.)  Compare the participation rate vs the Estimated Employed\n",
    "4.)  What is the relationship or correlation between 'Estimated Unemployment Rate (%)',\n",
    "     'Estimated Employed', 'Estimated Labour Participation Rate (%)'\n"
   ]
  },
  {
   "cell_type": "code",
   "execution_count": 64,
   "id": "1232adaa",
   "metadata": {},
   "outputs": [
    {
     "data": {
      "text/html": [
       "<div>\n",
       "<style scoped>\n",
       "    .dataframe tbody tr th:only-of-type {\n",
       "        vertical-align: middle;\n",
       "    }\n",
       "\n",
       "    .dataframe tbody tr th {\n",
       "        vertical-align: top;\n",
       "    }\n",
       "\n",
       "    .dataframe thead th {\n",
       "        text-align: right;\n",
       "    }\n",
       "</style>\n",
       "<table border=\"1\" class=\"dataframe\">\n",
       "  <thead>\n",
       "    <tr style=\"text-align: right;\">\n",
       "      <th></th>\n",
       "      <th>Region</th>\n",
       "      <th>Date</th>\n",
       "      <th>Frequency</th>\n",
       "      <th>Estimated Unemployment Rate (%)</th>\n",
       "      <th>Estimated Employed</th>\n",
       "      <th>Estimated Labour Participation Rate (%)</th>\n",
       "      <th>Year</th>\n",
       "    </tr>\n",
       "  </thead>\n",
       "  <tbody>\n",
       "    <tr>\n",
       "      <th>0</th>\n",
       "      <td>Andhra Pradesh</td>\n",
       "      <td>2019-05-31</td>\n",
       "      <td>Monthly</td>\n",
       "      <td>3.65</td>\n",
       "      <td>11999139.0</td>\n",
       "      <td>43.24</td>\n",
       "      <td>2019</td>\n",
       "    </tr>\n",
       "    <tr>\n",
       "      <th>1</th>\n",
       "      <td>Maharashtra</td>\n",
       "      <td>2019-05-31</td>\n",
       "      <td>Monthly</td>\n",
       "      <td>6.08</td>\n",
       "      <td>16962574.0</td>\n",
       "      <td>38.30</td>\n",
       "      <td>2019</td>\n",
       "    </tr>\n",
       "    <tr>\n",
       "      <th>2</th>\n",
       "      <td>Jharkhand</td>\n",
       "      <td>2019-05-31</td>\n",
       "      <td>Monthly</td>\n",
       "      <td>17.23</td>\n",
       "      <td>2404033.0</td>\n",
       "      <td>43.25</td>\n",
       "      <td>2019</td>\n",
       "    </tr>\n",
       "    <tr>\n",
       "      <th>3</th>\n",
       "      <td>Jammu &amp; Kashmir</td>\n",
       "      <td>2019-05-31</td>\n",
       "      <td>Monthly</td>\n",
       "      <td>23.04</td>\n",
       "      <td>1130139.0</td>\n",
       "      <td>46.74</td>\n",
       "      <td>2019</td>\n",
       "    </tr>\n",
       "    <tr>\n",
       "      <th>4</th>\n",
       "      <td>Himachal Pradesh</td>\n",
       "      <td>2019-05-31</td>\n",
       "      <td>Monthly</td>\n",
       "      <td>10.88</td>\n",
       "      <td>245668.0</td>\n",
       "      <td>45.27</td>\n",
       "      <td>2019</td>\n",
       "    </tr>\n",
       "  </tbody>\n",
       "</table>\n",
       "</div>"
      ],
      "text/plain": [
       "             Region       Date Frequency  Estimated Unemployment Rate (%)  \\\n",
       "0    Andhra Pradesh 2019-05-31   Monthly                             3.65   \n",
       "1       Maharashtra 2019-05-31   Monthly                             6.08   \n",
       "2         Jharkhand 2019-05-31   Monthly                            17.23   \n",
       "3   Jammu & Kashmir 2019-05-31   Monthly                            23.04   \n",
       "4  Himachal Pradesh 2019-05-31   Monthly                            10.88   \n",
       "\n",
       "   Estimated Employed  Estimated Labour Participation Rate (%)  Year  \n",
       "0          11999139.0                                    43.24  2019  \n",
       "1          16962574.0                                    38.30  2019  \n",
       "2           2404033.0                                    43.25  2019  \n",
       "3           1130139.0                                    46.74  2019  \n",
       "4            245668.0                                    45.27  2019  "
      ]
     },
     "execution_count": 64,
     "metadata": {},
     "output_type": "execute_result"
    }
   ],
   "source": [
    "merged_df.head()\n"
   ]
  },
  {
   "cell_type": "code",
   "execution_count": 49,
   "id": "f4b4eb0d",
   "metadata": {},
   "outputs": [
    {
     "name": "stdout",
     "output_type": "stream",
     "text": [
      "<class 'pandas.core.frame.DataFrame'>\n",
      "Int64Index: 1007 entries, 0 to 266\n",
      "Data columns (total 6 columns):\n",
      " #   Column                                   Non-Null Count  Dtype         \n",
      "---  ------                                   --------------  -----         \n",
      " 0   Region                                   1007 non-null   object        \n",
      " 1   Date                                     1007 non-null   datetime64[ns]\n",
      " 2   Frequency                                1007 non-null   object        \n",
      " 3   Estimated Unemployment Rate (%)          1007 non-null   float64       \n",
      " 4   Estimated Employed                       1007 non-null   float64       \n",
      " 5   Estimated Labour Participation Rate (%)  1007 non-null   float64       \n",
      "dtypes: datetime64[ns](1), float64(3), object(2)\n",
      "memory usage: 47.2+ KB\n"
     ]
    }
   ],
   "source": [
    "merged_df.info()"
   ]
  },
  {
   "cell_type": "markdown",
   "id": "af99c88d",
   "metadata": {},
   "source": [
    "## 1. How do the unemployment rates compare over the years in India"
   ]
  },
  {
   "cell_type": "code",
   "execution_count": 52,
   "id": "f910dae5",
   "metadata": {},
   "outputs": [
    {
     "data": {
      "image/png": "[encoded data removed]",
      "text/plain": [
       "<Figure size 720x432 with 1 Axes>"
      ]
     },
     "metadata": {
      "needs_background": "light"
     },
     "output_type": "display_data"
    }
   ],
   "source": [
    "plt.figure(figsize=(10, 6))\n",
    "sns.lineplot(x='Date', y='Estimated Unemployment Rate (%)', data=merged_df)\n",
    "plt.title('Trend of Unemployment Rate Over the Years')\n",
    "plt.xlabel('Year')\n",
    "plt.ylabel('Unemployment Rate (%)')\n",
    "plt.xticks(rotation=45)\n",
    "plt.tight_layout()\n",
    "plt.show()"
   ]
  },
  {
   "cell_type": "raw",
   "id": "b396b07b",
   "metadata": {},
   "source": [
    "From the graph we see that over the 2 years the Unemployment rate reached its max between May 2020 and July 2020."
   ]
  },
  {
   "cell_type": "markdown",
   "id": "b94ccf50",
   "metadata": {},
   "source": [
    "## 2. Regional Disparities in Unemployment Rates"
   ]
  },
  {
   "cell_type": "code",
   "execution_count": 53,
   "id": "ac681e0d",
   "metadata": {},
   "outputs": [
    {
     "data": {
      "image/png": "[encoded data removed]",
      "text/plain": [
       "<Figure size 720x432 with 1 Axes>"
      ]
     },
     "metadata": {
      "needs_background": "light"
     },
     "output_type": "display_data"
    }
   ],
   "source": [
    "# Using a box plot to see the disparities\n",
    "plt.figure(figsize=(10, 6))\n",
    "sns.boxplot(x='Region', y='Estimated Unemployment Rate (%)', data=merged_df)\n",
    "plt.title('Regional Disparities in Unemployment Rates')\n",
    "plt.xlabel('Region')\n",
    "plt.ylabel('Unemployment Rate (%)')\n",
    "plt.xticks(rotation=45)\n",
    "plt.tight_layout()\n",
    "plt.show()"
   ]
  },
  {
   "cell_type": "code",
   "execution_count": 63,
   "id": "5e567ecc",
   "metadata": {},
   "outputs": [
    {
     "data": {
      "image/png": "[encoded data removed]",
      "text/plain": [
       "<Figure size 720x432 with 1 Axes>"
      ]
     },
     "metadata": {},
     "output_type": "display_data"
    }
   ],
   "source": [
    "# Now using a bar plot to see the disparities\n",
    "#import seaborn as sns\n",
    "#import matplotlib.pyplot as plt\n",
    "\n",
    "# Create a bar plot to compare unemployment rates across regions\n",
    "plt.figure(figsize=(10, 6))\n",
    "sns.barplot(x='Region', y='Estimated Unemployment Rate (%)', data=merged_df, palette='viridis')\n",
    "plt.title('Regional Disparities in Unemployment Rates')\n",
    "plt.xlabel('Region')\n",
    "plt.ylabel('Unemployment Rate (%)')\n",
    "plt.xticks(rotation=45)\n",
    "plt.tight_layout()\n",
    "plt.show()\n"
   ]
  },
  {
   "cell_type": "markdown",
   "id": "18770bda",
   "metadata": {},
   "source": [
    "## 3.  Compare the participation rate vs the Estimated Employed"
   ]
  },
  {
   "cell_type": "code",
   "execution_count": 59,
   "id": "1f372a99",
   "metadata": {},
   "outputs": [
    {
     "data": {
      "image/png": "[encoded data removed]",
      "text/plain": [
       "<Figure size 720x432 with 1 Axes>"
      ]
     },
     "metadata": {},
     "output_type": "display_data"
    }
   ],
   "source": [
    "\n",
    "from matplotlib.ticker import ScalarFormatter\n",
    "\n",
    "# Create a scatter plot to compare Estimated Employed vs Estimated Labour Participation Rate\n",
    "plt.figure(figsize=(10, 6))\n",
    "ax = sns.scatterplot(x='Estimated Employed', y='Estimated Labour Participation Rate (%)', data=merged_df)\n",
    "plt.title('Comparison of Estimated Employed vs Labour Participation Rate')\n",
    "plt.xlabel('Estimated Employed')\n",
    "plt.ylabel('Estimated Labour Participation Rate (%)')\n",
    "\n",
    "# Format x-axis ticks to regular numeric format\n",
    "ax.xaxis.set_major_formatter(ScalarFormatter(useMathText=False))\n",
    "\n",
    "plt.tight_layout()\n",
    "plt.show()\n",
    "\n"
   ]
  },
  {
   "cell_type": "raw",
   "id": "ad1942cf",
   "metadata": {},
   "source": [
    "From the scatter plot we can see that there is significatnt scatter meaning the relationship is that linear and there\n",
    "is a positive correlation between the participation and estimated employed"
   ]
  },
  {
   "cell_type": "markdown",
   "id": "6ce8ff12",
   "metadata": {},
   "source": [
    "##  4. What is the relationship or correlation between 'Estimated Unemployment Rate (%)',  'Estimated Employed', 'Estimated Labour Participation Rate (%)'"
   ]
  },
  {
   "cell_type": "code",
   "execution_count": 62,
   "id": "1629a623",
   "metadata": {},
   "outputs": [
    {
     "data": {
      "image/png": "[encoded data removed]",
      "text/plain": [
       "<Figure size 720x576 with 2 Axes>"
      ]
     },
     "metadata": {},
     "output_type": "display_data"
    }
   ],
   "source": [
    "\n",
    "\n",
    "# Specify columns to include in the correlation matrix\n",
    "columns_to_correlate = ['Estimated Unemployment Rate (%)', 'Estimated Employed', 'Estimated Labour Participation Rate (%)']\n",
    "\n",
    "# Select only the specified columns from your DataFrame\n",
    "selected_df = merged_df[columns_to_correlate]\n",
    "\n",
    "# Generate the correlation matrix\n",
    "correlation_matrix = selected_df.corr()\n",
    "\n",
    "# Generate a heatmap of the correlation matrix\n",
    "plt.figure(figsize=(10, 8))\n",
    "sns.heatmap(correlation_matrix, annot=True, cmap='coolwarm', fmt=\".2f\", linewidths=0.5)\n",
    "plt.title('Correlation Matrix')\n",
    "plt.show()\n",
    "\n",
    "\n"
   ]
  },
  {
   "cell_type": "raw",
   "id": "6ace4636",
   "metadata": {},
   "source": [
    "From the matrix we can see that:\n",
    "1.) Estimated Unemployment Rate has a weak positive correlation (0.21) with Estimated Employed. But the correlation is weak, so     this trend is not very strong.\n",
    "\n",
    "2.) Estimated Unemployment Rate  has a weak negative correlation (-0.22) with Estimated Labor Participation Rate. However,           similar to the correlation between unemployment rate and employed, this trend is also weak.This suggests that there is a         slight tendency for the unemployment rate to decrease as the labor participation rate increases.\n",
    "\n",
    "3.) Estimated Employed has a strong positive correlation (0.97) with Estimated Labor Participation Rate. This one is expected,so     as the participation increases then the estimated employed will also increase."
   ]
  }
 ],
 "metadata": {
  "kernelspec": {
   "display_name": "Python 3",
   "language": "python",
   "name": "python3"
  },
  "language_info": {
   "codemirror_mode": {
    "name": "ipython",
    "version": 3
   },
   "file_extension": ".py",
   "mimetype": "text/x-python",
   "name": "python",
   "nbconvert_exporter": "python",
   "pygments_lexer": "ipython3",
   "version": "3.8.8"
  }
 },
 "nbformat": 4,
 "nbformat_minor": 5
}
